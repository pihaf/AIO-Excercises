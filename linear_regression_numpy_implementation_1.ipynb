{
  "nbformat": 4,
  "nbformat_minor": 0,
  "metadata": {
    "colab": {
      "provenance": [],
      "gpuType": "T4",
      "authorship_tag": "ABX9TyM4V1+VZkLrzKn4a4rhG4Yp",
      "include_colab_link": true
    },
    "kernelspec": {
      "name": "python3",
      "display_name": "Python 3"
    },
    "language_info": {
      "name": "python"
    },
    "accelerator": "GPU"
  },
  "cells": [
    {
      "cell_type": "markdown",
      "metadata": {
        "id": "view-in-github",
        "colab_type": "text"
      },
      "source": [
        "<a href=\"https://colab.research.google.com/github/pihaf/AIO-Excercises/blob/feature%2Fmodule4-week1-linear-regression/linear_regression_numpy_implementation_1.ipynb\" target=\"_parent\"><img src=\"https://colab.research.google.com/assets/colab-badge.svg\" alt=\"Open In Colab\"/></a>"
      ]
    },
    {
      "cell_type": "code",
      "source": [
        "import numpy as np\n",
        "import pandas as pd\n",
        "import matplotlib.pyplot as plt\n",
        "import random"
      ],
      "metadata": {
        "id": "xnEgSRY2AMn8"
      },
      "execution_count": 5,
      "outputs": []
    },
    {
      "cell_type": "code",
      "source": [
        "def get_column(data, index):\n",
        "  return [row[index] for row in data]\n",
        "\n",
        "def prepare_data(file_name_dataset):\n",
        "  data = np.genfromtxt(file_name_dataset, delimiter=',', skip_header=1).tolist()\n",
        "  N = len(data)\n",
        "\n",
        "  # get tv ( index =0)\n",
        "  tv_data = get_column(data, 0)\n",
        "\n",
        "  # get radio ( index =1)\n",
        "  radio_data = get_column(data, 1)\n",
        "\n",
        "  # get newspaper ( index =2)\n",
        "  newspaper_data = get_column(data, 2)\n",
        "  # get sales ( index =3)\n",
        "  sales_data = get_column(data, 3)\n",
        "  # building X input and y output for training\n",
        "  X = [tv_data, radio_data, newspaper_data]\n",
        "  y = sales_data\n",
        "  return X, y"
      ],
      "metadata": {
        "id": "iNzJtUMSAexZ"
      },
      "execution_count": 9,
      "outputs": []
    },
    {
      "cell_type": "code",
      "source": [
        "X, y = prepare_data('advertising.csv')\n",
        "list = [sum(X[0][:5]), sum(X[1][:5]), sum(X [2][:5]), sum(y[:5])]\n",
        "print(list)"
      ],
      "metadata": {
        "colab": {
          "base_uri": "https://localhost:8080/"
        },
        "id": "oJza2u3QCjRJ",
        "outputId": "47e27274-8c58-4397-e961-fcae8ea04d59"
      },
      "execution_count": 23,
      "outputs": [
        {
          "output_type": "stream",
          "name": "stdout",
          "text": [
            "[624.1, 175.10000000000002, 300.5, 78.9]\n"
          ]
        }
      ]
    },
    {
      "cell_type": "code",
      "source": [
        "def initialize_params():\n",
        "  w1 = random.gauss(mu=0.0, sigma=0.01)\n",
        "  w2 = random.gauss(mu=0.0, sigma=0.01)\n",
        "  w3 = random.gauss(mu=0.0, sigma=0.01)\n",
        "  b = 0\n",
        "  #w1 , w2 , w3 , b = (0.016992259082509283 , 0.0070783670518262355 ,-0.002307860847821344 , 0)\n",
        "  return w1, w2, w3, b"
      ],
      "metadata": {
        "id": "ua0SOHxZERT_"
      },
      "execution_count": 34,
      "outputs": []
    },
    {
      "cell_type": "code",
      "source": [
        "def predict(x1, x2, x3, w1, w2, w3, b):\n",
        "  y_hat = w1 * x1 + w2 * x2 + w3 * x3 + b\n",
        "  return y_hat\n",
        "\n",
        "y = predict(x1 =1, x2 =1, x3 =1, w1 =0, w2 =0.5, w3 =0, b =0.5)\n",
        "print(y)"
      ],
      "metadata": {
        "colab": {
          "base_uri": "https://localhost:8080/"
        },
        "id": "H2zUWFy3Ev6j",
        "outputId": "2ebe45a9-9422-499e-d3b2-027f935cdb64"
      },
      "execution_count": 15,
      "outputs": [
        {
          "output_type": "stream",
          "name": "stdout",
          "text": [
            "1.0\n"
          ]
        }
      ]
    },
    {
      "cell_type": "code",
      "source": [
        "def compute_loss(y_hat, y):\n",
        "  return (y_hat - y) ** 2\n",
        "\n",
        "l = compute_loss(1, 0.5)\n",
        "print(l)"
      ],
      "metadata": {
        "colab": {
          "base_uri": "https://localhost:8080/"
        },
        "id": "MtnVHUkqFYdF",
        "outputId": "63409473-008e-421a-fe23-f8a953e4ec5b"
      },
      "execution_count": 14,
      "outputs": [
        {
          "output_type": "stream",
          "name": "stdout",
          "text": [
            "0.25\n"
          ]
        }
      ]
    },
    {
      "cell_type": "code",
      "source": [
        "def compute_gradient_wi(xi, y, y_hat):\n",
        "  dl_dwi = 2 * (y_hat - y) * xi\n",
        "  return dl_dwi\n",
        "\n",
        "def compute_gradient_b(y, y_hat):\n",
        "  dl_db = 2 * (y_hat - y)\n",
        "  return dl_db\n",
        "\n",
        "g_wi = compute_gradient_wi(xi =1.0, y =1.0, y_hat =0.5)\n",
        "print(g_wi)\n",
        "g_b = compute_gradient_b(y =2.0, y_hat =0.5)\n",
        "print(g_b)"
      ],
      "metadata": {
        "colab": {
          "base_uri": "https://localhost:8080/"
        },
        "id": "J3ANOEfhFnoE",
        "outputId": "8c653457-5404-4a09-82fe-8f66301831f5"
      },
      "execution_count": 17,
      "outputs": [
        {
          "output_type": "stream",
          "name": "stdout",
          "text": [
            "-1.0\n",
            "-3.0\n"
          ]
        }
      ]
    },
    {
      "cell_type": "code",
      "source": [
        "def update_weight_wi(wi, dl_dwi, lr):\n",
        "  wi = wi - lr * dl_dwi\n",
        "  return wi\n",
        "\n",
        "def update_weight_b(b, dl_db, lr):\n",
        "  b = b - lr * dl_db\n",
        "  return b\n",
        "\n",
        "after_wi = update_weight_wi(wi =1.0, dl_dwi = -0.5, lr = 1e-5)\n",
        "print(after_wi)\n",
        "after_b = update_weight_b(b =0.5, dl_db = -1.0, lr = 1e-5)\n",
        "print(after_b)"
      ],
      "metadata": {
        "colab": {
          "base_uri": "https://localhost:8080/"
        },
        "id": "GWOsnT_XGdcm",
        "outputId": "d064573d-a015-4869-a10a-e4ea68cdb62a"
      },
      "execution_count": 19,
      "outputs": [
        {
          "output_type": "stream",
          "name": "stdout",
          "text": [
            "1.000005\n",
            "0.50001\n"
          ]
        }
      ]
    },
    {
      "cell_type": "code",
      "source": [
        "def compute_loss_mse(y, y_hat):\n",
        "  return (y_hat - y) ** 2"
      ],
      "metadata": {
        "id": "2IR2uRxDVXcJ"
      },
      "execution_count": 25,
      "outputs": []
    },
    {
      "cell_type": "code",
      "source": [
        "def implement_linear_regression(X_data, y_data, epoch_max = 50, lr = 1e-5):\n",
        "  losses = []\n",
        "\n",
        "  w1, w2, w3, b = initialize_params()\n",
        "\n",
        "  N = len(y_data)\n",
        "  for epoch in range(epoch_max):\n",
        "    for i in range(N):\n",
        "      # get a sample\n",
        "      x1 = X_data[0][i]\n",
        "      x2 = X_data[1][i]\n",
        "      x3 = X_data[2][i]\n",
        "\n",
        "      y = y_data[i]\n",
        "\n",
        "      # compute output\n",
        "      y_hat = predict(x1, x2, x3, w1, w2, w3, b)\n",
        "\n",
        "      # compute loss\n",
        "      loss = compute_loss_mse(y, y_hat)\n",
        "\n",
        "      # compute gradient w1 , w2 , w3 , b\n",
        "      dl_dw1 = compute_gradient_wi(x1, y, y_hat)\n",
        "      dl_dw2 = compute_gradient_wi(x2, y, y_hat)\n",
        "      dl_dw3 = compute_gradient_wi(x3, y, y_hat)\n",
        "      dl_db = compute_gradient_b(y, y_hat)\n",
        "      # update parameters\n",
        "      w1 = update_weight_wi(w1, dl_dw1, lr)\n",
        "      w2 = update_weight_wi(w2, dl_dw2, lr)\n",
        "      w3 = update_weight_wi(w3, dl_dw3, lr)\n",
        "      b = update_weight_b(b, dl_db, lr)\n",
        "\n",
        "      # logging\n",
        "      losses.append(loss)\n",
        "  return (w1, w2, w3,b, losses)"
      ],
      "metadata": {
        "id": "xT2pGaahDIcB"
      },
      "execution_count": 26,
      "outputs": []
    },
    {
      "cell_type": "markdown",
      "source": [
        "### Testing Linear Regression Function"
      ],
      "metadata": {
        "id": "Kjw1VU4UHCpV"
      }
    },
    {
      "cell_type": "code",
      "source": [
        "(w1, w2, w3,b, losses) = implement_linear_regression(X, y)\n",
        "plt.plot(losses[:100])\n",
        "plt.xlabel(\"#iteration\")\n",
        "plt.ylabel(\"Loss\")\n",
        "plt.show()"
      ],
      "metadata": {
        "colab": {
          "base_uri": "https://localhost:8080/",
          "height": 449
        },
        "id": "nzK3fD_8HHEn",
        "outputId": "251cf6d7-0e13-4f82-d6db-001a19e0224a"
      },
      "execution_count": 27,
      "outputs": [
        {
          "output_type": "display_data",
          "data": {
            "text/plain": [
              "<Figure size 640x480 with 1 Axes>"
            ],
            "image/png": "[encoded data removed]"
          },
          "metadata": {}
        }
      ]
    },
    {
      "cell_type": "code",
      "source": [
        "X, y = prepare_data('advertising.csv')\n",
        "(w1, w2, w3,b, losses) = implement_linear_regression(X, y)\n",
        "print(w1, w2, w3)"
      ],
      "metadata": {
        "colab": {
          "base_uri": "https://localhost:8080/"
        },
        "id": "sV6eCvdOVe8F",
        "outputId": "53034f47-a81a-4b36-b8df-89f97b9049b2"
      },
      "execution_count": 28,
      "outputs": [
        {
          "output_type": "stream",
          "name": "stdout",
          "text": [
            "0.0740598597076549 0.1591736517149108 0.017561219637991184\n"
          ]
        }
      ]
    },
    {
      "cell_type": "markdown",
      "source": [
        "### Testing on new data"
      ],
      "metadata": {
        "id": "L04I442rV1bV"
      }
    },
    {
      "cell_type": "code",
      "source": [
        "# given new data\n",
        "tv = 19.2\n",
        "radio = 35.9\n",
        "newspaper = 51.3\n",
        "\n",
        "X, y = prepare_data('advertising.csv')\n",
        "(w1, w2, w3,b, losses) = implement_linear_regression(X, y, epoch_max =50, lr =1e-5)\n",
        "sales = predict(tv, radio, newspaper, w1, w2, w3, b)\n",
        "print(f'predicted sales is { sales }')"
      ],
      "metadata": {
        "colab": {
          "base_uri": "https://localhost:8080/"
        },
        "id": "ThQl3OI4V4Ne",
        "outputId": "62782238-5bb7-4d9c-b5fc-4464c477061f"
      },
      "execution_count": 29,
      "outputs": [
        {
          "output_type": "stream",
          "name": "stdout",
          "text": [
            "predicted sales is 8.1764410976378\n"
          ]
        }
      ]
    },
    {
      "cell_type": "code",
      "source": [
        "def compute_loss_mae(y, y_hat):\n",
        "  return abs(y_hat - y)\n",
        "\n",
        "l = compute_loss_mae(1, 0.5)\n",
        "print(l)"
      ],
      "metadata": {
        "colab": {
          "base_uri": "https://localhost:8080/"
        },
        "id": "iFkda1GBWJwD",
        "outputId": "2ac41537-5c6c-41b4-ab04-6307c6155966"
      },
      "execution_count": 30,
      "outputs": [
        {
          "output_type": "stream",
          "name": "stdout",
          "text": [
            "0.5\n"
          ]
        }
      ]
    },
    {
      "cell_type": "markdown",
      "source": [
        "### Linear Regression with Batch"
      ],
      "metadata": {
        "id": "LBz62vN7WWik"
      }
    },
    {
      "cell_type": "code",
      "source": [
        "def implement_linear_regression_nsamples(X_data, y_data, epoch_max=50, lr=1e-5):\n",
        "  losses = []\n",
        "\n",
        "  w1, w2, w3, b = initialize_params()\n",
        "  N = len(y_data)\n",
        "\n",
        "  for epoch in range(epoch_max):\n",
        "    loss_total = 0.0\n",
        "    dw1_total = 0.0\n",
        "    dw2_total = 0.0\n",
        "    dw3_total = 0.0\n",
        "    db_total = 0.0\n",
        "    for i in range(N):\n",
        "      x1 = X_data[0][i]\n",
        "      x2 = X_data[1][i]\n",
        "      x3 = X_data[2][i]\n",
        "\n",
        "      y = y_data[i]\n",
        "\n",
        "      y_hat = predict(x1, x2, x3, w1, w2, w3, b)\n",
        "\n",
        "      loss = compute_loss_mse(y, y_hat)\n",
        "\n",
        "      # accumulate loss\n",
        "      loss_total += loss\n",
        "\n",
        "      # compute gradient w1 , w2 , w3 , b\n",
        "      dl_dw1 = compute_gradient_wi(x1, y, y_hat)\n",
        "      dl_dw2 = compute_gradient_wi(x2, y, y_hat)\n",
        "      dl_dw3 = compute_gradient_wi(x3, y, y_hat)\n",
        "      dl_db = compute_gradient_b(y, y_hat)\n",
        "\n",
        "      # accumulate gradient\n",
        "      dw1_total += dl_dw1\n",
        "      dw2_total += dl_dw2\n",
        "      dw3_total += dl_dw3\n",
        "      db_total += dl_db\n",
        "\n",
        "    # compute average\n",
        "    dw1_total /= N\n",
        "    dw2_total /= N\n",
        "    dw3_total /= N\n",
        "    db_total /= N\n",
        "\n",
        "    # update params\n",
        "    w1 = update_weight_wi(w1, dw1_total, lr)\n",
        "    w2 = update_weight_wi(w2, dw2_total, lr)\n",
        "    w3 = update_weight_wi(w3, dw3_total, lr)\n",
        "    b = update_weight_b(b, db_total, lr)\n",
        "\n",
        "    # logging\n",
        "    losses.append(loss_total/N)\n",
        "\n",
        "  return (w1, w2, w3, b, losses)"
      ],
      "metadata": {
        "id": "ukJF6xmVWZ1u"
      },
      "execution_count": 35,
      "outputs": []
    },
    {
      "cell_type": "code",
      "source": [
        "(w1, w2, w3, b, losses) = implement_linear_regression_nsamples(X, y, epoch_max=1000, lr=1e-5)\n",
        "print(losses)\n",
        "plt.plot(losses)\n",
        "plt.xlabel(\"#epoch\")\n",
        "plt.ylabel(\"MSE Loss\")\n",
        "plt.show()"
      ],
      "metadata": {
        "colab": {
          "base_uri": "https://localhost:8080/",
          "height": 486
        },
        "id": "2vV9gSRwX8Se",
        "outputId": "0ece4303-3912-4380-a27c-b536ab754072"
      },
      "execution_count": 32,
      "outputs": [
        {
          "output_type": "stream",
          "name": "stdout",
          "text": [
            "[254.6241111459379, 51.75276017180929, 19.595320749891172, 14.377467171282428, 13.414237455385384, 13.126254510551213, 12.948640280081408, 12.792150665795127, 12.64259115859067, 12.497612187025709, 12.356736522970591, 12.219785689165741, 12.086631571715728, 11.957157127824665, 11.831250087949552, 11.70880186693612, 11.589707300030534, 11.473864511944285, 11.361174809724446, 11.251542582103776, 11.144875202510667, 11.041082935211431, 10.940078844420814, 10.84177870627712, 10.746100923589976, 10.652966443273046, 10.562298676377287, 10.47402342064259, 10.388068785488471, 10.30436511936714, 10.222844939404206, 10.143442863255348, 10.066095543108661, 9.990741601765517, 9.917321570734106, 9.845777830272453, 9.776054551319408, 9.708097639254104, 9.641854679426345, 9.577274884402067, 9.514309042869831, 9.45290947015607, 9.393029960298358, 9.334625739627636, 9.277653421811788, 9.222070964314671, 9.167837626225847, 9.114913927417906, 9.063261608989567, 9.012843594954001, 8.963623955133219, 8.91556786922038, 8.868641591973477, 8.822812419504407, 8.77804865662933, 8.734319585246466, 8.691595433709292, 8.649847347163593, 8.609047358818053, 8.56916836211904, 8.530184083800943, 8.492069057784642, 8.454798599897362, 8.418348783387888, 8.382696415212301, 8.34781901306583, 8.313694783137295, 8.280302598563543, 8.247621978561575, 8.215633068217274, 8.184316618909854, 8.153653969352115, 8.123627027227082, 8.094218251402197, 8.065410634702967, 8.037187687228322, 8.009533420190728, 7.982432330264512, 7.955869384426236, 7.92983000527196, 7.904300056795956, 7.87926583061665, 7.8547140326356475, 7.830631770116042, 7.8070065391669665, 7.783826212621617, 7.761079028296148, 7.738753577617713, 7.71683879460978, 7.695323945223671, 7.674198617005267, 7.653452709086446, 7.633076422490925, 7.61306025074468, 7.593394970781315, 7.574071634133116, 7.5550815583987685, 7.536416318979002, 7.518067741071883, 7.500027891919307, 7.482289073297016, 7.464843814240436, 7.447684863998721, 7.43080518521015, 7.414197947291541, 7.397856520035269, 7.381774467407097, 7.365945541538676, 7.350363676908534, 7.3350229847055015, 7.319917747369079, 7.305042413300881, 7.290391591742072, 7.275960047811268, 7.261742697698164, 7.2477346040076815, 7.233930971250142, 7.2203271414727235, 7.206918590027831, 7.193700921474025, 7.180669865605369, 7.167821273605134, 7.155151114319964, 7.14265547065068, 7.130330536056099, 7.118172611166305, 7.106178100501857, 7.094343509295687, 7.082665440414458, 7.071140591376162, 7.059765751461034, 7.048537798912779, 7.037453698227321, 7.026510497526248, 7.015705326012387, 7.005035391504886, 6.994497978051202, 6.984090443613767, 6.973810217828849, 6.9636547998353375, 6.95362175617135, 6.943708718736434, 6.933913382817325, 6.924233505175302, 6.914666902193161, 6.90521144807993, 6.895865073131606, 6.886625762045927, 6.877491552289784, 6.868460532517371, 6.859530841037614, 6.850700664329248, 6.841968235602138, 6.833331833403295, 6.824789780266242, 6.816340441402358, 6.80798222343288, 6.79971357316025, 6.791532976377663, 6.783438956715507, 6.775430074523605, 6.767504925788102, 6.75966214108199, 6.751900384548044, 6.744218352913341, 6.7366147745342975, 6.729088408471143, 6.7216380435911836, 6.714262497699635, 6.706960616697472, 6.69973127376513, 6.692573368571513, 6.685485826507419, 6.678467597942521, 6.671517657505324, 6.6646350033852775, 6.657818656656401, 6.6510676606217025, 6.644381080177769, 6.637758001198878, 6.631197529940055, 6.6246987924584335, 6.6182609340523895, 6.611883118717856, 6.605564528621304, 6.599304363588876, 6.593101840611116, 6.586956193362896, 6.580866671737956, 6.574832541397709, 6.5688530833337735, 6.562927593443843, 6.557055382120539, 6.551235773852666, 6.545468106838704, 6.539751732611981, 6.534086015677247, 6.528470333158258, 6.522904074456063, 6.517386640917606, 6.5119174455144, 6.506495912530847, 6.501121477262031, 6.495793585720561, 6.490511694352326, 6.485275269760699, 6.4800837884391544, 6.474936736511775, 6.469833609481697, 6.464773911986937, 6.459757157563669, 6.454782868416417, 6.4498505751952795, 6.444959816779661, 6.440110140068502, 6.435301099776738, 6.430532258237773, 6.42580318521189, 6.421113457700196, 6.416462659764202, 6.411850382350694, 6.4072762231216505, 6.402739786289377, 6.398240682456277, 6.393778528459458, 6.389352947219829, 6.384963567595612, 6.380610024240169, 6.376291957463894, 6.372009013100203, 6.367760842375356, 6.363547101782088, 6.359367452956851, 6.355221562560657, 6.351109102163267, 6.347029748130805, 6.34298318151655, 6.338969087954779, 6.334987157557816, 6.33103708481584, 6.327118568499623, 6.323231311566039, 6.319375021066176, 6.315549408056148, 6.311754187510288, 6.307989078236883, 6.304253802796229, 6.300548087420983, 6.2968716619387, 6.293224259696561, 6.289605617488202, 6.286015475482486, 6.2824535771543335, 6.278919669217378, 6.275413501558511, 6.271934827174171, 6.268483402108431, 6.265058985392663, 6.2616613389869755, 6.2582902277230765, 6.254945419248787, 6.251626683973959, 6.248333795017925, 6.245066528158231, 6.241824661780822, 6.238607976831492, 6.235416256768628, 6.232249287517204, 6.2291068574239015, 6.225988757213514, 6.222894779946387, 6.219824720976963, 6.2167783779134576, 6.213755550578461, 6.210756040970657, 6.20777965322741, 6.204826193588344, 6.201895470359846, 6.198987293880423, 6.196101476486949, 6.1932378324817146, 6.19039617810034, 6.187576331480406, 6.184778112630898, 6.182001343402407, 6.179245847457969, 6.176511450244708, 6.173797978966087, 6.171105262554806, 6.168433131646425, 6.165781418553521, 6.163149957240466, 6.1605385832988535, 6.157947133923399, 6.155375447888457, 6.152823365525069, 6.150290728698496, 6.147777380786286, 6.145283166656859, 6.142807932648491, 6.140351526548862, 6.1379137975749645, 6.135494596353507, 6.133093774901729, 6.130711186608623, 6.128346686216564, 6.1260001298033275, 6.123671374764502, 6.12136027979623, 6.119066704878393, 6.116790511258026, 6.114531561433183, 6.112289719137066, 6.110064849322497, 6.107856818146722, 6.10566549295647, 6.1034907422733635, 6.101332435779553, 6.099190444303729, 6.097064639807282, 6.09495489537085, 6.092861085181006, 6.090783084517315, 6.088720769739553, 6.086674018275176, 6.08464270860706, 6.082626720261431, 6.080625933796007, 6.0786402307884115, 6.076669493824726, 6.07471360648827, 6.072772453348625, 6.070845919950765, 6.068933892804462, 6.067036259373801, 6.065152908066933, 6.063283728225956, 6.061428610117017, 6.059587444920506, 6.057760124721495, 6.055946542500266, 6.054146592123037, 6.052360168332818, 6.0505871667404065, 6.048827483815555, 6.0470810168782405, 6.0453476640901, 6.0436273244459775, 6.041919897765629, 6.040225284685508, 6.038543386650712, 6.036874105907055, 6.035217345493221, 6.033573009233064, 6.0319410017280015, 6.030321228349547, 6.028713595231903, 6.027118009264704, 6.025534378085834, 6.023962610074367, 6.022402614343569, 6.020854300734056, 6.019317579806977, 6.017792362837322, 6.0162785618073675, 6.0147760894000895, 6.013284858992801, 6.011804784650771, 6.010335781120956, 6.008877763825873, 6.007430648857434, 6.005994352970959, 6.004568793579227, 6.003153888746596, 6.00174955718319, 6.000355718239207, 5.998972291899218, 5.997599198776616, 5.996236360108053, 5.994883697748032, 5.993541134163468, 5.9922085924284065, 5.990885996218704, 5.989573269806877, 5.988270338056934, 5.986977126419271, 5.98569356092569, 5.984419568184382, 5.983155075375049, 5.981900010244022, 5.980654301099454, 5.979417876806594, 5.9781906667830444, 5.976972600994163, 5.975763609948398, 5.974563624692792, 5.973372576808466, 5.972190398406152, 5.971017022121794, 5.969852381112203, 5.968696409050689, 5.967549040122858, 5.966410209022351, 5.965279850946644, 5.964157901592936, 5.96304429715404, 5.961938974314319, 5.960841870245657, 5.959752922603526, 5.958672069522984, 5.957599249614849, 5.956534401961749, 5.9554774661143846, 5.954428382087695, 5.953387090357105, 5.952353531854829, 5.951327647966195, 5.950309380525985, 5.949298671814825, 5.9482954645556365, 5.947299701910059, 5.946311327474974, 5.945330285279003, 5.944356519779076, 5.943389975857018, 5.942430598816186, 5.941478334378073, 5.940533128679049, 5.939594928267018, 5.9386636800981965, 5.93773933153387, 5.936821830337181, 5.935911124669975, 5.935007163089666, 5.934109894546072, 5.933219268378398, 5.932335234312095, 5.931457742455899, 5.93058674329877, 5.92972218770696, 5.928864026921002, 5.9280122125528205, 5.92716669658282, 5.926327431356989, 5.925494369584077, 5.924667464332719, 5.923846669028692, 5.9230319374520555, 5.922223223734468, 5.921420482356413, 5.920623668144484, 5.919832736268724, 5.919047642239925, 5.918268341907012, 5.917494791454409, 5.916726947399448, 5.915964766589774, 5.915208206200808, 5.914457223733207, 5.913711777010344, 5.912971824175809, 5.912237323690981, 5.9115082343324845, 5.910784515189871, 5.910066125663111, 5.90935302546026, 5.908645174595062, 5.907942533384601, 5.907245062446958, 5.906552722698926, 5.90586547535367, 5.905183281918488, 5.9045061041925235, 5.903833904264552, 5.903166644510718, 5.902504287592381, 5.901846796453891, 5.901194134320427, 5.900546264695849, 5.899903151360565, 5.899264758369415, 5.898631050049548, 5.898001990998368, 5.897377546081454, 5.896757680430503, 5.8961423594413, 5.895531548771699, 5.894925214339623, 5.8943233223210765, 5.893725839148171, 5.893132731507165, 5.892543966336542, 5.891959510825067, 5.891379332409879, 5.890803398774619, 5.89023167784752, 5.889664137799541, 5.8891007470425665, 5.888541474227513, 5.887986288242515, 5.887435158211164, 5.886888053490664, 5.886344943670082, 5.885805798568563, 5.885270588233615, 5.884739282939297, 5.884211853184597, 5.8836882696916435, 5.8831685034040335, 5.882652525485139, 5.882140307316469, 5.88163182049596, 5.881127036836382, 5.8806259283636635, 5.880128467315303, 5.879634626138741, 5.8791443774897845, 5.878657694230993, 5.878174549430147, 5.8776949163586565, 5.877218768490049, 5.876746079498398, 5.876276823256835, 5.875810973836007, 5.875348505502601, 5.8748893927178445, 5.874433610136051, 5.873981132603111, 5.873531935155097, 5.873085993016758, 5.872643281600152, 5.872203776503175, 5.871767453508179, 5.871334288580569, 5.870904257867409, 5.870477337696048, 5.870053504572759, 5.869632735181377, 5.869215006381959, 5.868800295209437, 5.868388578872307, 5.86797983475131, 5.867574040398112, 5.86717117353405, 5.866771212048796, 5.866374133999113, 5.865979917607575, 5.865588541261339, 5.865199983510857, 5.864814223068675, 5.864431238808195, 5.864051009762428, 5.863673515122839, 5.863298734238115, 5.862926646612977, 5.8625572319069965, 5.862190469933445, 5.861826340658095, 5.861464824198107, 5.861105900820844, 5.860749550942773, 5.860395755128294, 5.86004449408868, 5.859695748680886, 5.859349499906529, 5.859005728910737, 5.858664416981092, 5.85832554554652, 5.857989096176275, 5.857655050578829, 5.857323390600847, 5.856994098226116, 5.856667155574539, 5.856342544901083, 5.856020248594774, 5.855700249177662, 5.855382529303829, 5.8550670717583975, 5.854753859456525, 5.854442875442426, 5.85413410288839, 5.853827525093851, 5.853523125484357, 5.85322088761067, 5.852920795147813, 5.852622831894109, 5.852326981770261, 5.852033228818443, 5.851741557201351, 5.8514519512013194, 5.851164395219389, 5.850878873774438, 5.850595371502276, 5.85031387315476, 5.850034363598919, 5.849756827816093, 5.84948125090105, 5.849207618061146, 5.848935914615464, 5.848666125993971, 5.8483982377366965, 5.848132235492857, 5.847868105020098, 5.847605832183607, 5.8473454029553364, 5.847086803413198, 5.846830019740256, 5.846575038223923, 5.846321845255189, 5.846070427327818, 5.845820771037593, 5.845572863081542, 5.845326690257143, 5.84508223946161, 5.844839497691109, 5.8445984520400165, 5.844359089700195, 5.844121397960219, 5.84388536420469, 5.843650975913455, 5.843418220660969, 5.843187086115479, 5.842957560038404, 5.842729630283579, 5.842503284796577, 5.842278511614004, 5.842055298862825, 5.8418336347596735, 5.841613507610178, 5.841394905808289, 5.8411778178355895, 5.8409622322606785, 5.840748137738484, 5.840535523009604, 5.840324376899676, 5.840114688318737, 5.83990644626057, 5.839699639802071, 5.839494258102656, 5.839290290403586, 5.8390877260273895, 5.838886554377219, 5.838686764936272, 5.838488347267161, 5.838291291011331, 5.838095585888446, 5.837901221695815, 5.837708188307798, 5.837516475675224, 5.837326073824817, 5.83713697285862, 5.836949162953415, 5.836762634360196, 5.836577377403546, 5.836393382481154, 5.8362106400631975, 5.836029140691839, 5.835848874980661, 5.8356698336141415, 5.835492007347098, 5.835315387004169, 5.835139963479293, 5.834965727735169, 5.834792670802749, 5.834620783780727, 5.834450057835007, 5.834280484198209, 5.834112054169179, 5.833944759112445, 5.833778590457789, 5.83361353969968, 5.833449598396834, 5.833286758171709, 5.833125010710043, 5.832964347760358, 5.832804761133471, 5.832646242702086, 5.832488784400225, 5.832332378222878, 5.832177016225459, 5.832022690523377, 5.831869393291604, 5.831717116764179, 5.8315658532338155, 5.831415595051422, 5.831266334625659, 5.8311180644225304, 5.830970776964935, 5.830824464832229, 5.830679120659808, 5.830534737138709, 5.8303913070151365, 5.830248823090068, 5.830107278218876, 5.829966665310877, 5.82982697732893, 5.82968820728904, 5.829550348259951, 5.829413393362757, 5.82927733577049, 5.829142168707754, 5.8290078854503085, 5.828874479324689, 5.828741943707841, 5.828610272026708, 5.828479457757897, 5.828349494427256, 5.828220375609535, 5.828092094927992, 5.827964646054082, 5.827838022706994, 5.8277122186533905, 5.827587227706984, 5.827463043728226, 5.827339660623905, 5.827217072346856, 5.827095272895556, 5.826974256313809, 5.826854016690408, 5.826734548158783, 5.826615844896654, 5.826497901125733, 5.826380711111346, 5.826264269162129, 5.8261485696297255, 5.826033606908395, 5.825919375434756, 5.825805869687424, 5.825693084186728, 5.825581013494366, 5.825469652213102, 5.825358994986479, 5.825249036498452, 5.82513977147317, 5.825031194674583, 5.82492330090621, 5.824816085010798, 5.824709541870038, 5.82460366640428, 5.8244984535722475, 5.824393898370698, 5.824289995834198, 5.824186741034826, 5.824084129081842, 5.823982155121455, 5.823880814336532, 5.8237801019463165, 5.823680013206139, 5.823580543407182, 5.823481687876193, 5.823383441975169, 5.823285801101179, 5.823188760686029, 5.823092316196026, 5.822996463131716, 5.822901197027623, 5.822806513451999, 5.822712408006547, 5.822618876326195, 5.822525914078848, 5.8224335169650985, 5.8223416807180275, 5.8222504011029335, 5.822159673917086, 5.822069494989506, 5.821979860180708, 5.821890765382459, 5.821802206517557, 5.821714179539592, 5.821626680432704, 5.821539705211373, 5.8214532499201574, 5.821367310633498, 5.821281883455483, 5.821196964519616, 5.821112549988597, 5.821028636054108, 5.8209452189365924, 5.820862294885029, 5.820779860176737, 5.820697911117123, 5.820616444039523, 5.820535455304943, 5.8204549413018825, 5.820374898446094, 5.820295323180421, 5.820216211974567, 5.820137561324871, 5.820059367754153, 5.819981627811496, 5.8199043380720195, 5.819827495136727, 5.81975109563228, 5.81967513621083, 5.819599613549778, 5.819524524351659, 5.819449865343874, 5.819375633278557, 5.819301824932364, 5.819228437106287, 5.819155466625488, 5.819082910339087, 5.819010765120015, 5.818939027864814, 5.818867695493459, 5.818796764949187, 5.818726233198313, 5.818656097230064, 5.8185863540564196, 5.818517000711894, 5.818448034253423, 5.818379451760145, 5.818311250333272, 5.8182434270959105, 5.81817597919287, 5.818108903790549, 5.818042198076719, 5.817975859260408, 5.81790988457171, 5.817844271261654, 5.817779016601991, 5.817714117885108, 5.817649572423836, 5.817585377551283, 5.817521530620715, 5.817458029005358, 5.817394870098317, 5.81733205131234, 5.817269570079741, 5.817207423852214, 5.817145610100705, 5.817084126315234, 5.8170229700048095, 5.816962138697238, 5.816901629938983, 5.816841441295051, 5.816781570348835, 5.816722014701976, 5.816662771974212, 5.8166038398032835, 5.816545215844749, 5.816486897771892, 5.816428883275531, 5.816371170063962, 5.816313755862768, 5.816256638414699, 5.816199815479577, 5.816143284834125, 5.81608704427184, 5.8160310916029205, 5.81597542465406, 5.8159200412684, 5.815864939305353, 5.815810116640488, 5.81575557116543, 5.815701300787726, 5.815647303430722, 5.81559357703344, 5.81554011955048, 5.815486928951869, 5.8154340032229745, 5.815381340364391, 5.81532893839179, 5.815276795335824, 5.815224909242061, 5.815173278170761, 5.815121900196899, 5.8150707734099445, 5.815019895913808, 5.814969265826715, 5.814918881281105, 5.814868740423528, 5.814818841414518, 5.814769182428506, 5.814719761653704, 5.814670577292012, 5.814621627558914, 5.814572910683346, 5.814524424907659, 5.8144761684874355, 5.814428139691467, 5.814380336801579, 5.81433275811262, 5.8142854019322625, 5.814238266581012, 5.8141913503920195, 5.814144651711025, 5.8140981688962885, 5.814051900318444, 5.8140058443604365, 5.813959999417421, 5.813914363896679, 5.81386893621751, 5.813823714811155, 5.813778698120704, 5.813733884601003, 5.813689272718559, 5.813644860951473, 5.813600647789324, 5.813556631733117, 5.813512811295156, 5.813469184998984, 5.813425751379312, 5.813382508981887, 5.813339456363472, 5.813296592091701, 5.813253914745032, 5.81321142291267, 5.813169115194448, 5.813126990200817, 5.8130850465526605, 5.813043282881333, 5.8130016978284935, 5.812960290046074, 5.812919058196168, 5.81287800095099, 5.812837116992772, 5.8127964050137155, 5.812755863715861, 5.8127154918110895, 5.812675288020986, 5.8126352510768005, 5.812595379719353, 5.8125556726989975, 5.812516128775488, 5.8124767467179765, 5.81243752530489, 5.812398463323895, 5.812359559571804, 5.812320812854515, 5.812282221986951, 5.812243785792974, 5.81220550310534, 5.812167372765605, 5.812129393624088, 5.812091564539778, 5.812053884380287, 5.812016352021787, 5.811978966348916, 5.811941726254753, 5.811904630640733, 5.811867678416569, 5.811830868500227, 5.811794199817843, 5.811757671303658, 5.811721281899961, 5.811685030557035, 5.811648916233078, 5.811612937894154, 5.811577094514165, 5.811541385074716, 5.811505808565133, 5.811470363982379, 5.8114350503309735, 5.811399866622964, 5.811364811877837, 5.811329885122527, 5.8112950853912695, 5.811260411725626, 5.8112258631743865, 5.81119143879352, 5.81115713764612, 5.8111229588023745, 5.8110889013394695, 5.811054964341581, 5.8110211468997885, 5.810987448112035, 5.810953867083079, 5.8109204029244435, 5.810887054754357, 5.8108538216976955, 5.810820702885975, 5.810787697457233, 5.810754804556038, 5.8107220233334145, 5.810689352946801, 5.810656792559997, 5.810624341343101, 5.810591998472502, 5.810559763130796, 5.8105276345067605, 5.810495611795293, 5.810463694197368, 5.810431880919997, 5.810400171176185, 5.810368564184871, 5.8103370591709, 5.810305655364963, 5.810274352003578, 5.810243148328994, 5.810212043589228, 5.8101810370379345, 5.810150127934419, 5.810119315543602, 5.810088599135932, 5.810057977987353, 5.810027451379307, 5.809997018598657, 5.809966678937634, 5.809936431693826]\n"
          ]
        },
        {
          "output_type": "display_data",
          "data": {
            "text/plain": [
              "<Figure size 640x480 with 1 Axes>"
            ],
            "image/png": "[encoded data removed]"
          },
          "metadata": {}
        }
      ]
    },
    {
      "cell_type": "code",
      "source": [
        "X, y = prepare_data('advertising.csv')\n",
        "# using MSE loss\n",
        "(w1, w2, w3,b, losses) = implement_linear_regression_nsamples(X, y,epoch_max =1000,lr =1e-5)\n",
        "print(w1, w2, w3)"
      ],
      "metadata": {
        "colab": {
          "base_uri": "https://localhost:8080/"
        },
        "id": "5jlV4ulPYUTW",
        "outputId": "d0348390-3370-4143-e5a3-158cb28df8a1"
      },
      "execution_count": 37,
      "outputs": [
        {
          "output_type": "stream",
          "name": "stdout",
          "text": [
            "0.06710990754044266 0.15756173831487585 0.029619799386084403\n"
          ]
        }
      ]
    },
    {
      "cell_type": "markdown",
      "source": [
        "## Implementation with feature list"
      ],
      "metadata": {
        "id": "7ioJu4a4Zzza"
      }
    },
    {
      "cell_type": "code",
      "source": [
        "def prepare_data(file_name_dataset):\n",
        "  data = np.genfromtxt(file_name_dataset, delimiter=',', skip_header=1).tolist()\n",
        "  N = len(data)\n",
        "\n",
        "  # get tv ( index =0)\n",
        "  tv_data = get_column(data, 0)\n",
        "\n",
        "  # get radio ( index =1)\n",
        "  radio_data = get_column(data, 1)\n",
        "\n",
        "  # get newspaper ( index =2)\n",
        "  newspaper_data = get_column(data, 2)\n",
        "  # get sales ( index =3)\n",
        "  sales_data = get_column(data, 3)\n",
        "  # building X input and y output for training\n",
        "  # Create list of features for input\n",
        "  X = [[1, x1, x2, x3] for x1, x2, x3 in zip(tv_data, radio_data, newspaper_data)]\n",
        "  y = sales_data\n",
        "  return X, y\n",
        "\n",
        "def initialize_params():\n",
        "  bias = 0\n",
        "  w1 = random.gauss(mu=0.0, sigma=0.01)\n",
        "  w2 = random.gauss(mu=0.0, sigma=0.01)\n",
        "  w3 = random.gauss(mu=0.0, sigma=0.01)\n",
        "  # comment this line for real application\n",
        "  return [0 , -0.01268850433497871 , 0.004752496982185252 , 0.0073796171538643845]\n",
        "  #return [bias, w1, w2, w3]\n",
        "\n",
        "def predict(X_features, weights):\n",
        "  result = np.dot(X_features, weights)\n",
        "  return result\n",
        "\n",
        "def compute_loss(y_hat, y):\n",
        "  return (y_hat - y) ** 2\n",
        "\n",
        "def compute_gradient_w(X_features, y, y_hat):\n",
        "  dl_dw = [2 * (y_hat - y) * x for x in X_features]\n",
        "  return dl_dw\n",
        "\n",
        "def update_weight(weights, dl_dw, lr):\n",
        "  for i in range(len(weights)):\n",
        "    weights[i] = weights[i] - lr * dl_dw[i]  # Update each weight element\n",
        "  return weights"
      ],
      "metadata": {
        "id": "BqeRG48-ZE5o"
      },
      "execution_count": 48,
      "outputs": []
    },
    {
      "cell_type": "code",
      "source": [
        "def implement_linear_regression(X_features, y_output, epoch_max=50, lr=1e-5):\n",
        "  losses = []\n",
        "  weights = initialize_params()\n",
        "  N = len(y_output)\n",
        "  for epoch in range(epoch_max):\n",
        "    #print(\"epoch \", epoch)\n",
        "    for i in range(N):\n",
        "      features_i = X_features[i]\n",
        "      y = y_output[i]\n",
        "\n",
        "      y_hat = predict(features_i, weights)\n",
        "      loss = compute_loss(y, y_hat)\n",
        "      dl_dw = compute_gradient_w(features_i, y, y_hat)\n",
        "      weights = update_weight(weights, dl_dw, lr)\n",
        "\n",
        "      # accumulate loss\n",
        "      losses.append(loss)\n",
        "  return weights, losses\n",
        "\n",
        "X, y = prepare_data('advertising.csv')\n",
        "W, L = implement_linear_regression(X, y)\n",
        "plt.plot(L[0:100])\n",
        "plt.xlabel(\"#iteration\")\n",
        "plt.ylabel(\"Loss\")\n",
        "plt.show()"
      ],
      "metadata": {
        "colab": {
          "base_uri": "https://localhost:8080/",
          "height": 1000
        },
        "id": "QMWpFvkwa-B4",
        "outputId": "a58fd7d6-d243-428a-93b3-6b431a104291"
      },
      "execution_count": 49,
      "outputs": [
        {
          "output_type": "stream",
          "name": "stdout",
          "text": [
            "epoch  0\n",
            "epoch  1\n",
            "epoch  2\n",
            "epoch  3\n",
            "epoch  4\n",
            "epoch  5\n",
            "epoch  6\n",
            "epoch  7\n",
            "epoch  8\n",
            "epoch  9\n",
            "epoch  10\n",
            "epoch  11\n",
            "epoch  12\n",
            "epoch  13\n",
            "epoch  14\n",
            "epoch  15\n",
            "epoch  16\n",
            "epoch  17\n",
            "epoch  18\n",
            "epoch  19\n",
            "epoch  20\n",
            "epoch  21\n",
            "epoch  22\n",
            "epoch  23\n",
            "epoch  24\n",
            "epoch  25\n",
            "epoch  26\n",
            "epoch  27\n",
            "epoch  28\n",
            "epoch  29\n",
            "epoch  30\n",
            "epoch  31\n",
            "epoch  32\n",
            "epoch  33\n",
            "epoch  34\n",
            "epoch  35\n",
            "epoch  36\n",
            "epoch  37\n",
            "epoch  38\n",
            "epoch  39\n",
            "epoch  40\n",
            "epoch  41\n",
            "epoch  42\n",
            "epoch  43\n",
            "epoch  44\n",
            "epoch  45\n",
            "epoch  46\n",
            "epoch  47\n",
            "epoch  48\n",
            "epoch  49\n"
          ]
        },
        {
          "output_type": "display_data",
          "data": {
            "text/plain": [
              "<Figure size 640x480 with 1 Axes>"
            ],
            "image/png": "[encoded data removed]"
          },
          "metadata": {}
        }
      ]
    },
    {
      "cell_type": "code",
      "source": [
        "X, y = prepare_data('advertising.csv')\n",
        "W, L = implement_linear_regression(X, y, epoch_max =50, lr =1e-5)\n",
        "# Print loss value at iteration 9999\n",
        "print(L[9999])"
      ],
      "metadata": {
        "colab": {
          "base_uri": "https://localhost:8080/"
        },
        "id": "4fhlklEGczvI",
        "outputId": "284003ef-abf3-497f-c91a-a3b6a96ae41c"
      },
      "execution_count": 50,
      "outputs": [
        {
          "output_type": "stream",
          "name": "stdout",
          "text": [
            "epoch  0\n",
            "epoch  1\n",
            "epoch  2\n",
            "epoch  3\n",
            "epoch  4\n",
            "epoch  5\n",
            "epoch  6\n",
            "epoch  7\n",
            "epoch  8\n",
            "epoch  9\n",
            "epoch  10\n",
            "epoch  11\n",
            "epoch  12\n",
            "epoch  13\n",
            "epoch  14\n",
            "epoch  15\n",
            "epoch  16\n",
            "epoch  17\n",
            "epoch  18\n",
            "epoch  19\n",
            "epoch  20\n",
            "epoch  21\n",
            "epoch  22\n",
            "epoch  23\n",
            "epoch  24\n",
            "epoch  25\n",
            "epoch  26\n",
            "epoch  27\n",
            "epoch  28\n",
            "epoch  29\n",
            "epoch  30\n",
            "epoch  31\n",
            "epoch  32\n",
            "epoch  33\n",
            "epoch  34\n",
            "epoch  35\n",
            "epoch  36\n",
            "epoch  37\n",
            "epoch  38\n",
            "epoch  39\n",
            "epoch  40\n",
            "epoch  41\n",
            "epoch  42\n",
            "epoch  43\n",
            "epoch  44\n",
            "epoch  45\n",
            "epoch  46\n",
            "epoch  47\n",
            "epoch  48\n",
            "epoch  49\n",
            "31.339223408109948\n"
          ]
        }
      ]
    }
  ]
}