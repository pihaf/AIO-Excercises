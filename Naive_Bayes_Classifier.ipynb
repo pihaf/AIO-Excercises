{
  "nbformat": 4,
  "nbformat_minor": 0,
  "metadata": {
    "colab": {
      "provenance": [],
      "gpuType": "T4",
      "authorship_tag": "ABX9TyNAWKCWmdx9AD4V7zQAW8XM",
      "include_colab_link": true
    },
    "kernelspec": {
      "name": "python3",
      "display_name": "Python 3"
    },
    "language_info": {
      "name": "python"
    },
    "accelerator": "GPU"
  },
  "cells": [
    {
      "cell_type": "markdown",
      "metadata": {
        "id": "view-in-github",
        "colab_type": "text"
      },
      "source": [
        "<a href=\"https://colab.research.google.com/github/pihaf/AIO-Excercises/blob/feature%2Fmodule2-week3-probability-excercises/Naive_Bayes_Classifier.ipynb\" target=\"_parent\"><img src=\"https://colab.research.google.com/assets/colab-badge.svg\" alt=\"Open In Colab\"/></a>"
      ]
    },
    {
      "cell_type": "code",
      "execution_count": 3,
      "metadata": {
        "colab": {
          "base_uri": "https://localhost:8080/"
        },
        "id": "SMBVxI3vXIBD",
        "outputId": "4a9d1151-c6a2-4848-8608-ba41c1a4d419"
      },
      "outputs": [
        {
          "output_type": "stream",
          "name": "stdout",
          "text": [
            "[['Sunny' 'Hot' 'High' 'Weak' 'no']\n",
            " ['Sunny' 'Hot' 'High' 'Strong' 'no']\n",
            " ['Overcast' 'Hot' 'High' 'Weak' 'yes']\n",
            " ['Rain' 'Mild' 'High' 'Weak' 'yes']\n",
            " ['Rain' 'Cool' 'Normal' 'Weak' 'yes']\n",
            " ['Rain' 'Cool' 'Normal' 'Strong' 'no']\n",
            " ['Overcast' 'Cool' 'Normal' 'Strong' 'yes']\n",
            " ['Overcast' 'Mild' 'High' 'Weak' 'no']\n",
            " ['Sunny' 'Cool' 'Normal' 'Weak' 'yes']\n",
            " ['Rain' 'Mild' 'Normal' 'Weak' 'yes']]\n"
          ]
        }
      ],
      "source": [
        "import numpy as np\n",
        "\n",
        "def create_train_data():\n",
        "  data = [['Sunny', 'Hot', 'High', 'Weak', 'no'],\n",
        "          ['Sunny', 'Hot', 'High', 'Strong', 'no'],\n",
        "          ['Overcast', 'Hot', 'High', 'Weak', 'yes'],\n",
        "          ['Rain', 'Mild', 'High', 'Weak', 'yes'],\n",
        "          ['Rain', 'Cool', 'Normal', 'Weak', 'yes'],\n",
        "          ['Rain', 'Cool', 'Normal', 'Strong', 'no'],\n",
        "          ['Overcast', 'Cool', 'Normal', 'Strong', 'yes'],\n",
        "          ['Overcast', 'Mild', 'High', 'Weak', 'no'],\n",
        "          ['Sunny', 'Cool', 'Normal', 'Weak', 'yes'],\n",
        "          ['Rain', 'Mild', 'Normal', 'Weak', 'yes']]\n",
        "  return np.array(data)\n",
        "\n",
        "train_data = create_train_data()\n",
        "print(train_data)"
      ]
    },
    {
      "cell_type": "code",
      "source": [
        "def compute_prior_probability(train_data):\n",
        "  y_unique = [\"yes\", \"no\"]\n",
        "  prior_probability = np.zeros(len(y_unique))\n",
        "  for i in range(len(y_unique)):\n",
        "    prior_probability[i] = len(np.where(train_data[:, 4] == y_unique[i])[0]) / len(train_data)\n",
        "  return prior_probability\n",
        "\n",
        "prior_probability = compute_prior_probability(train_data)\n",
        "print(\"P(play tennis = Yes)\", prior_probability[0])\n",
        "print(\"P(play tennis = No)\", prior_probability[1])"
      ],
      "metadata": {
        "colab": {
          "base_uri": "https://localhost:8080/"
        },
        "id": "C5f1BdJFXU3c",
        "outputId": "3cfc8eb2-9714-4305-f781-3bbd2036117f"
      },
      "execution_count": 7,
      "outputs": [
        {
          "output_type": "stream",
          "name": "stdout",
          "text": [
            "P(play tennis = Yes) 0.6\n",
            "P(play tennis = No) 0.4\n"
          ]
        }
      ]
    },
    {
      "cell_type": "code",
      "source": [
        "def compute_conditional_probability(train_data):\n",
        "  y_unique = [\"no\", \"yes\"]\n",
        "  conditional_probability = []\n",
        "  list_x_name = []\n",
        "  for i in range(train_data.shape[1] - 1):\n",
        "    x_unique = np.unique(train_data[:, i])\n",
        "    list_x_name.append(x_unique)\n",
        "    print(x_unique)\n",
        "\n",
        "    x_conditional_probability = np.zeros((len(y_unique), len(x_unique)))\n",
        "    for j in range(len(y_unique)):\n",
        "      for k in range(len(x_unique)):\n",
        "        x_conditional_probability[j, k] = len(np.where((train_data[:, i] == x_unique[k]) & (train_data[:, 4] == y_unique[j]))[0]) / len(np.where(train_data[:, 4] == y_unique[j])[0])\n",
        "    conditional_probability.append(x_conditional_probability)\n",
        "  return conditional_probability, list_x_name\n",
        "\n",
        "conditional_probability, list_x_name = compute_conditional_probability(train_data)"
      ],
      "metadata": {
        "colab": {
          "base_uri": "https://localhost:8080/"
        },
        "id": "Kj3a6LAiavNA",
        "outputId": "e5e1a60d-4efa-4842-9f7c-426b972a97d1"
      },
      "execution_count": 8,
      "outputs": [
        {
          "output_type": "stream",
          "name": "stdout",
          "text": [
            "['Overcast' 'Rain' 'Sunny']\n",
            "['Cool' 'Hot' 'Mild']\n",
            "['High' 'Normal']\n",
            "['Strong' 'Weak']\n"
          ]
        }
      ]
    },
    {
      "cell_type": "code",
      "source": [
        "train_data = create_train_data ()\n",
        "_ , list_x_name = compute_conditional_probability ( train_data )\n",
        "print (\"x1 = \", list_x_name [0])\n",
        "print (\"x2 = \", list_x_name [1])\n",
        "print (\"x3 = \", list_x_name [2])\n",
        "print (\"x4 = \", list_x_name [3])"
      ],
      "metadata": {
        "colab": {
          "base_uri": "https://localhost:8080/"
        },
        "id": "aEPaJmvDiZiP",
        "outputId": "3f76f29e-dbe6-4040-c5f3-c8a23fa04d40"
      },
      "execution_count": 10,
      "outputs": [
        {
          "output_type": "stream",
          "name": "stdout",
          "text": [
            "['Overcast' 'Rain' 'Sunny']\n",
            "['Cool' 'Hot' 'Mild']\n",
            "['High' 'Normal']\n",
            "['Strong' 'Weak']\n",
            "x1 =  ['Overcast' 'Rain' 'Sunny']\n",
            "x2 =  ['Cool' 'Hot' 'Mild']\n",
            "x3 =  ['High' 'Normal']\n",
            "x4 =  ['Strong' 'Weak']\n"
          ]
        }
      ]
    },
    {
      "cell_type": "code",
      "source": [
        "def get_index_from_value(feature_name, list_features):\n",
        "  return np.where(list_features == feature_name)[0][0]"
      ],
      "metadata": {
        "id": "crTXBOkriJzF"
      },
      "execution_count": 9,
      "outputs": []
    },
    {
      "cell_type": "code",
      "source": [
        "train_data = create_train_data ()\n",
        "_ , list_x_name = compute_conditional_probability(train_data)\n",
        "outlook = list_x_name[0]\n",
        "\n",
        "i1 = get_index_from_value (\"Overcast\", outlook)\n",
        "i2 = get_index_from_value (\"Rain\", outlook)\n",
        "i3 = get_index_from_value (\"Sunny\", outlook)\n",
        "print ( i1 , i2 , i3 )"
      ],
      "metadata": {
        "colab": {
          "base_uri": "https://localhost:8080/"
        },
        "id": "gI6EuzLyiniZ",
        "outputId": "ac2b6ba0-9a93-4ec2-846d-7e0c5538abf6"
      },
      "execution_count": 12,
      "outputs": [
        {
          "output_type": "stream",
          "name": "stdout",
          "text": [
            "['Overcast' 'Rain' 'Sunny']\n",
            "['Cool' 'Hot' 'Mild']\n",
            "['High' 'Normal']\n",
            "['Strong' 'Weak']\n",
            "0 1 2\n"
          ]
        }
      ]
    },
    {
      "cell_type": "code",
      "source": [
        "train_data = create_train_data ()\n",
        "conditional_probability , list_x_name = compute_conditional_probability ( train_data )\n",
        "# Compute P(\" Outlook \"=\" Sunny \"| Play Tennis \"=\" Yes \")\n",
        "x1 = get_index_from_value(\"Sunny\", list_x_name[0])\n",
        "print (\"P( ’ Outlook ’= ’ Sunny ’| Play Tennis ’= ’Yes ’) = \", np . round ( conditional_probability[0][1 , x1 ] ,2) )"
      ],
      "metadata": {
        "colab": {
          "base_uri": "https://localhost:8080/"
        },
        "id": "sUrDRUEpjAlR",
        "outputId": "e23ab0ad-ae67-4565-caf5-fb0b8f92569d"
      },
      "execution_count": 14,
      "outputs": [
        {
          "output_type": "stream",
          "name": "stdout",
          "text": [
            "['Overcast' 'Rain' 'Sunny']\n",
            "['Cool' 'Hot' 'Mild']\n",
            "['High' 'Normal']\n",
            "['Strong' 'Weak']\n",
            "P( ’ Outlook ’= ’ Sunny ’| Play Tennis ’= ’Yes ’) =  0.17\n"
          ]
        }
      ]
    },
    {
      "cell_type": "code",
      "source": [
        "train_data = create_train_data ()\n",
        "conditional_probability , list_x_name = compute_conditional_probability ( train_data )\n",
        "print(conditional_probability)\n",
        "# Compute P(\" Outlook \"=\" Sunny \"| Play Tennis \"=\" No \")\n",
        "x1 = get_index_from_value(\"Sunny\", list_x_name[0])\n",
        "print (\"P( ’ Outlook ’= ’ Sunny ’| Play Tennis ’= ’No ’) = \", np.round ( conditional_probability[0][1 , x1 ] ,2) )"
      ],
      "metadata": {
        "colab": {
          "base_uri": "https://localhost:8080/"
        },
        "id": "PtZ9zMN5kIfv",
        "outputId": "744c855a-2f0d-4e36-9ff3-6a1bcb639e71"
      },
      "execution_count": 18,
      "outputs": [
        {
          "output_type": "stream",
          "name": "stdout",
          "text": [
            "['Overcast' 'Rain' 'Sunny']\n",
            "['Cool' 'Hot' 'Mild']\n",
            "['High' 'Normal']\n",
            "['Strong' 'Weak']\n",
            "[array([[0.25      , 0.25      , 0.5       ],\n",
            "       [0.33333333, 0.5       , 0.16666667]]), array([[0.25      , 0.5       , 0.25      ],\n",
            "       [0.5       , 0.16666667, 0.33333333]]), array([[0.75      , 0.25      ],\n",
            "       [0.33333333, 0.66666667]]), array([[0.5       , 0.5       ],\n",
            "       [0.16666667, 0.83333333]])]\n",
            "P( ’ Outlook ’= ’ Sunny ’| Play Tennis ’= ’No ’) =  0.17\n"
          ]
        }
      ]
    },
    {
      "cell_type": "code",
      "source": [
        "def train_naive_bayes(train_data):\n",
        "  prior_probability = compute_prior_probability(train_data)\n",
        "  conditional_probability, list_x_name = compute_conditional_probability(train_data)\n",
        "  return prior_probability, conditional_probability, list_x_name"
      ],
      "metadata": {
        "id": "X7maaEPVlbpH"
      },
      "execution_count": 19,
      "outputs": []
    },
    {
      "cell_type": "code",
      "source": [
        "def prediction_play_tennis(X, list_x_name, prior_probability, conditional_probability):\n",
        "  x1 = get_index_from_value ( X [0] , list_x_name [0])\n",
        "  x2 = get_index_from_value ( X [1] , list_x_name [1])\n",
        "  x3 = get_index_from_value ( X [2] , list_x_name [2])\n",
        "  x4 = get_index_from_value ( X [3] , list_x_name [3])\n",
        "\n",
        "  p0 = prior_probability[0] * conditional_probability[0][0, x1] * conditional_probability[1][0, x2] * conditional_probability[2][0, x3] * conditional_probability[3][0, x4]\n",
        "  p1 = prior_probability[1] * conditional_probability[0][1, x1] * conditional_probability[1][1, x2] * conditional_probability[2][1, x3] * conditional_probability[3][1, x4]\n",
        "\n",
        "  if p0 > p1 :\n",
        "    y_pred = 0\n",
        "  else :\n",
        "    y_pred = 1\n",
        "\n",
        "  return y_pred"
      ],
      "metadata": {
        "id": "h9kaV458l5P5"
      },
      "execution_count": 20,
      "outputs": []
    },
    {
      "cell_type": "code",
      "source": [
        "X = ['Sunny','Cool','High','Strong']\n",
        "data = create_train_data ()\n",
        "prior_probability , conditional_probability , list_x_name = train_naive_bayes ( data )\n",
        "pred = prediction_play_tennis (X , list_x_name , prior_probability , conditional_probability )\n",
        "\n",
        "if( pred ) :\n",
        "  print (\"Ad should go!\")\n",
        "else :\n",
        "  print (\"Ad should not go!\")"
      ],
      "metadata": {
        "colab": {
          "base_uri": "https://localhost:8080/"
        },
        "id": "5c4l4li8mfSf",
        "outputId": "7851b596-8b16-4825-e54c-ff7df7850ac7"
      },
      "execution_count": 21,
      "outputs": [
        {
          "output_type": "stream",
          "name": "stdout",
          "text": [
            "['Overcast' 'Rain' 'Sunny']\n",
            "['Cool' 'Hot' 'Mild']\n",
            "['High' 'Normal']\n",
            "['Strong' 'Weak']\n",
            "Ad should not go!\n"
          ]
        }
      ]
    }
  ]
}