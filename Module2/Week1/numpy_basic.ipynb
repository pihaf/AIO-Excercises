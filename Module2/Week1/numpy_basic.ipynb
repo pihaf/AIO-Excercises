{
  "nbformat": 4,
  "nbformat_minor": 0,
  "metadata": {
    "colab": {
      "provenance": [],
      "gpuType": "T4"
    },
    "kernelspec": {
      "name": "python3",
      "display_name": "Python 3"
    },
    "language_info": {
      "name": "python"
    },
    "accelerator": "GPU"
  },
  "cells": [
    {
      "cell_type": "code",
      "execution_count": 1,
      "metadata": {
        "id": "zWVZLH7H96rl"
      },
      "outputs": [],
      "source": [
        "import numpy as np"
      ]
    },
    {
      "cell_type": "markdown",
      "source": [
        "**Q1.**"
      ],
      "metadata": {
        "id": "BkM0xquBAqy3"
      }
    },
    {
      "cell_type": "code",
      "source": [
        "arr = np.arange(0, 10, 1)\n",
        "print(arr)"
      ],
      "metadata": {
        "colab": {
          "base_uri": "https://localhost:8080/"
        },
        "id": "j-17lxRk-beS",
        "outputId": "90dd950f-7814-4932-a626-8d50f214ff42"
      },
      "execution_count": 2,
      "outputs": [
        {
          "output_type": "stream",
          "name": "stdout",
          "text": [
            "[0 1 2 3 4 5 6 7 8 9]\n"
          ]
        }
      ]
    },
    {
      "cell_type": "markdown",
      "source": [
        "**Q2.**"
      ],
      "metadata": {
        "id": "RMPLnTkYAvUp"
      }
    },
    {
      "cell_type": "code",
      "source": [
        "arr = np.ones((3,3)) > 0\n",
        "print(arr)\n",
        "\n",
        "arr = np.ones((3,3), dtype=bool)\n",
        "print(arr)\n",
        "\n",
        "arr = np.full((3,3), fill_value=True, dtype=bool)\n",
        "print(arr)"
      ],
      "metadata": {
        "colab": {
          "base_uri": "https://localhost:8080/"
        },
        "id": "_eP5Z9Uz_F_J",
        "outputId": "6a38dc11-85ce-463d-a0bc-bc400f6d4bc7"
      },
      "execution_count": 7,
      "outputs": [
        {
          "output_type": "stream",
          "name": "stdout",
          "text": [
            "[[ True  True  True]\n",
            " [ True  True  True]\n",
            " [ True  True  True]]\n",
            "[[ True  True  True]\n",
            " [ True  True  True]\n",
            " [ True  True  True]]\n",
            "[[ True  True  True]\n",
            " [ True  True  True]\n",
            " [ True  True  True]]\n"
          ]
        }
      ]
    },
    {
      "cell_type": "markdown",
      "source": [
        "**Q3.**"
      ],
      "metadata": {
        "id": "OHIxNF2OAyzJ"
      }
    },
    {
      "cell_type": "code",
      "source": [
        "arr = np.arange(0, 10)\n",
        "print(arr[arr%2 == 1])"
      ],
      "metadata": {
        "colab": {
          "base_uri": "https://localhost:8080/"
        },
        "id": "gDqmeNLx_tgp",
        "outputId": "f31497cf-6d81-4945-b32a-3a0acdca7986"
      },
      "execution_count": 8,
      "outputs": [
        {
          "output_type": "stream",
          "name": "stdout",
          "text": [
            "[1 3 5 7 9]\n"
          ]
        }
      ]
    },
    {
      "cell_type": "markdown",
      "source": [
        " **Q4.**"
      ],
      "metadata": {
        "id": "cRMVwOJvAe-X"
      }
    },
    {
      "cell_type": "code",
      "source": [
        "arr = np.arange(0, 10)\n",
        "arr[arr%2 == 1] = -1\n",
        "print(arr)"
      ],
      "metadata": {
        "colab": {
          "base_uri": "https://localhost:8080/"
        },
        "id": "iKnRePdEAKHa",
        "outputId": "eb344e55-d381-4bbc-b5d3-766654a63f89"
      },
      "execution_count": 9,
      "outputs": [
        {
          "output_type": "stream",
          "name": "stdout",
          "text": [
            "[ 0 -1  2 -1  4 -1  6 -1  8 -1]\n"
          ]
        }
      ]
    },
    {
      "cell_type": "markdown",
      "source": [
        "**Q5.**"
      ],
      "metadata": {
        "id": "F0WYCNJNA2Bw"
      }
    },
    {
      "cell_type": "code",
      "source": [
        "arr = np.arange(0, 10)\n",
        "arr_2d = arr.reshape(2, -1)\n",
        "print(arr_2d)"
      ],
      "metadata": {
        "colab": {
          "base_uri": "https://localhost:8080/"
        },
        "id": "iQ_RvF-hA4Zm",
        "outputId": "611fcf53-5c70-420a-b518-4930309dfab0"
      },
      "execution_count": 11,
      "outputs": [
        {
          "output_type": "stream",
          "name": "stdout",
          "text": [
            "[[0 1 2 3 4]\n",
            " [5 6 7 8 9]]\n"
          ]
        }
      ]
    },
    {
      "cell_type": "markdown",
      "source": [
        "**Q6.**"
      ],
      "metadata": {
        "id": "wm43FbmyBUWN"
      }
    },
    {
      "cell_type": "code",
      "source": [
        "arr1 = np.arange(0, 10).reshape(2, -1)\n",
        "arr2 = np.repeat(1, 10).reshape(2, -1)\n",
        "c = np.concatenate([arr1, arr2], axis=0)\n",
        "print(c)"
      ],
      "metadata": {
        "colab": {
          "base_uri": "https://localhost:8080/"
        },
        "id": "aKB_l8cGAZWl",
        "outputId": "b98e8c00-3169-4415-e2a6-e778d0fb3ecf"
      },
      "execution_count": 12,
      "outputs": [
        {
          "output_type": "stream",
          "name": "stdout",
          "text": [
            "[[0 1 2 3 4]\n",
            " [5 6 7 8 9]\n",
            " [1 1 1 1 1]\n",
            " [1 1 1 1 1]]\n"
          ]
        }
      ]
    },
    {
      "cell_type": "markdown",
      "source": [
        "**Q7.**"
      ],
      "metadata": {
        "id": "bXZfOEAqCv6d"
      }
    },
    {
      "cell_type": "code",
      "source": [
        "arr1 = np.arange(10).reshape(2, -1)\n",
        "arr2 = np.repeat(1, 10).reshape(2, -1)\n",
        "c = np.concatenate((arr1, arr2), axis=1)\n",
        "print(c)"
      ],
      "metadata": {
        "colab": {
          "base_uri": "https://localhost:8080/"
        },
        "id": "09sUTa2lCyKz",
        "outputId": "65d196dc-a640-474d-dca9-dbc84f9e8922"
      },
      "execution_count": 15,
      "outputs": [
        {
          "output_type": "stream",
          "name": "stdout",
          "text": [
            "[[0 1 2 3 4 1 1 1 1 1]\n",
            " [5 6 7 8 9 1 1 1 1 1]]\n"
          ]
        }
      ]
    },
    {
      "cell_type": "markdown",
      "source": [
        "**Q8.**"
      ],
      "metadata": {
        "id": "hdI44-tfDAjN"
      }
    },
    {
      "cell_type": "code",
      "source": [
        "arr = np.array([1,2,3])\n",
        "print(np.repeat(arr, 3))\n",
        "print(np.tile(arr, 3))"
      ],
      "metadata": {
        "colab": {
          "base_uri": "https://localhost:8080/"
        },
        "id": "Li9CNYqYDTC3",
        "outputId": "9586774b-345d-4804-aab5-edc7b852cf60"
      },
      "execution_count": 16,
      "outputs": [
        {
          "output_type": "stream",
          "name": "stdout",
          "text": [
            "[1 1 1 2 2 2 3 3 3]\n",
            "[1 2 3 1 2 3 1 2 3]\n"
          ]
        }
      ]
    },
    {
      "cell_type": "markdown",
      "source": [
        "**Q9.**"
      ],
      "metadata": {
        "id": "-FgHeo4vDydX"
      }
    },
    {
      "cell_type": "code",
      "source": [
        "a = np.array([2 ,6 ,1 ,9 ,10 ,3 ,27])\n",
        "index = np.where((a >=5) &(a <=10))\n",
        "print (\"result\", a[index])"
      ],
      "metadata": {
        "colab": {
          "base_uri": "https://localhost:8080/"
        },
        "id": "uyH2DsmFD0E-",
        "outputId": "3085b4b6-052c-4a8a-9514-fb56057a7c92"
      },
      "execution_count": 17,
      "outputs": [
        {
          "output_type": "stream",
          "name": "stdout",
          "text": [
            "result [ 6  9 10]\n"
          ]
        }
      ]
    },
    {
      "cell_type": "markdown",
      "source": [
        "**Q10.**"
      ],
      "metadata": {
        "id": "snoUT-wMEIz0"
      }
    },
    {
      "cell_type": "code",
      "source": [
        "def maxx(x, y):\n",
        "  if x >= y:\n",
        "    return x\n",
        "  else:\n",
        "    return y\n",
        "\n",
        "a = np.array([5 ,7 ,9 ,8 ,6 ,4 ,5])\n",
        "b = np.array([6 ,3 ,4 ,8 ,9 ,7 ,1])\n",
        "pair_max = np.vectorize(maxx, otypes=[float])\n",
        "print(pair_max(a, b))"
      ],
      "metadata": {
        "colab": {
          "base_uri": "https://localhost:8080/"
        },
        "id": "bekOLBjfEKXB",
        "outputId": "2a17df0f-efb4-4250-dd55-8b3d092e3efb"
      },
      "execution_count": 18,
      "outputs": [
        {
          "output_type": "stream",
          "name": "stdout",
          "text": [
            "[6. 7. 9. 8. 9. 7. 5.]\n"
          ]
        }
      ]
    },
    {
      "cell_type": "markdown",
      "source": [
        "**Q11.**"
      ],
      "metadata": {
        "id": "bJsqYCraFVPm"
      }
    },
    {
      "cell_type": "code",
      "source": [
        "a = np.array([5 ,7 ,9 ,8 ,6 ,4 ,5])\n",
        "b = np.array([6 ,3 ,4 ,8 ,9 ,7 ,1])\n",
        "print (\"Result\",np.where(a<b, b, a))"
      ],
      "metadata": {
        "colab": {
          "base_uri": "https://localhost:8080/"
        },
        "id": "NoJKtKOpFW2k",
        "outputId": "67678915-4d45-4fe2-ce74-132f89ea4c3e"
      },
      "execution_count": 19,
      "outputs": [
        {
          "output_type": "stream",
          "name": "stdout",
          "text": [
            "Result [6 7 9 8 9 7 5]\n"
          ]
        }
      ]
    }
  ]
}